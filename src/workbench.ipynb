{
 "cells": [
  {
   "cell_type": "code",
   "execution_count": 4,
   "metadata": {
    "collapsed": true,
    "ExecuteTime": {
     "end_time": "2023-11-16T22:00:50.028211Z",
     "start_time": "2023-11-16T22:00:49.823665Z"
    }
   },
   "outputs": [
    {
     "name": "stdout",
     "output_type": "stream",
     "text": [
      "Function: function_a\n",
      "Docstring: This function does something related to task A.\n",
      "Source:\n",
      "def function_a():\n",
      "    \"\"\"This function does something related to task A.\"\"\"\n",
      "    # Function implementation\n",
      "    print(\"Function A called\")\n",
      "\n",
      "\n",
      "Function: function_b\n",
      "Docstring: This function handles task B.\n",
      "Source:\n",
      "def function_b():\n",
      "    \"\"\"This function handles task B.\"\"\"\n",
      "    # Function implementation\n",
      "    print(\"Function B called\")\n",
      "\n",
      "\n",
      "User input: I need to handle task B\n",
      "Which function should be called?\n",
      "function_b\n",
      "Function B called\n"
     ]
    }
   ],
   "source": [
    "from utils.complete import create\n",
    "\n",
    "\n",
    "import inspect\n",
    "\n",
    "def select_and_call_function(user_input: str, function_list: list):\n",
    "    prompts = []\n",
    "    for function in function_list:\n",
    "        source = inspect.getsource(function)\n",
    "        docstring = function.__doc__ if function.__doc__ else \"No docstring provided.\"\n",
    "        prompts.append(f\"Function: {function.__name__}\\nDocstring: {docstring.strip()}\\nSource:\\n{source}\")\n",
    "\n",
    "    combined_prompt = \"\\n\\n\".join(prompts) + f\"\\n\\nUser input: {user_input}\\nWhich function should be called?\"\n",
    "    selected_function_name = interpret_with_openai(combined_prompt)\n",
    "\n",
    "    # Find and call the selected function\n",
    "    for function in function_list:\n",
    "        if function.__name__ == selected_function_name:\n",
    "            return function()\n",
    "\n",
    "    raise ValueError(\"No suitable function found.\")\n",
    "\n",
    "\n",
    "def interpret_with_openai(prompt: str) -> str:\n",
    "    \"\"\"\n",
    "    Uses OpenAI to interpret which function to call based on the given prompt.\n",
    "\n",
    "    Args:\n",
    "    prompt (str): The prompt to send to OpenAI.\n",
    "\n",
    "    Returns:\n",
    "    str: The name of the function to call.\n",
    "    \"\"\"\n",
    "    print(prompt)\n",
    "    response = create(prompt=prompt)  # Assuming 'create' is a wrapper for OpenAI API call\n",
    "    print(response)\n",
    "    return response.strip()\n",
    "\n",
    "def function_a():\n",
    "    \"\"\"This function does something related to task A.\"\"\"\n",
    "    # Function implementation\n",
    "    print(\"Function A called\")\n",
    "\n",
    "def function_b():\n",
    "    \"\"\"This function handles task B.\"\"\"\n",
    "    # Function implementation\n",
    "    print(\"Function B called\")\n",
    "\n",
    "functions = [function_a, function_b]\n",
    "user_input = \"I need to handle task B\"\n",
    "\n",
    "# Call the function selector\n",
    "select_and_call_function(user_input, functions)\n"
   ]
  },
  {
   "cell_type": "code",
   "execution_count": 2,
   "outputs": [
    {
     "data": {
      "text/plain": "'Today: 2023-11-20\\n   November 2023\\nSu Mo Tu We Th Fr Sa\\n          1  2  3  4\\n 5  6  7  8  9 10 11\\n12 13 14 15 16 17 18\\n19 20 21 22 23 24 25\\n26 27 28 29 30\\n'"
     },
     "execution_count": 2,
     "metadata": {},
     "output_type": "execute_result"
    }
   ],
   "source": [
    "import calendar\n",
    "import datetime as dt\n",
    "\n",
    "def get_this_month():\n",
    "    # Get the current date to determine the current month and year\n",
    "    today = dt.date.today()\n",
    "    current_year = today.year\n",
    "    current_month = today.month\n",
    "\n",
    "    # Create a TextCalendar object starting from Sunday (you can change it to MONDAY if you prefer)\n",
    "    cal = calendar.TextCalendar(calendar.SUNDAY)\n",
    "\n",
    "    # Print the calendar for the current month\n",
    "    cal_text = cal.formatmonth(current_year, current_month)\n",
    "\n",
    "\n",
    "    return f\"Today: {today}\\n{cal_text}\"\n",
    "\n",
    "get_this_month()"
   ],
   "metadata": {
    "collapsed": false,
    "ExecuteTime": {
     "end_time": "2023-11-20T22:35:48.895231Z",
     "start_time": "2023-11-20T22:35:48.892424Z"
    }
   }
  },
  {
   "cell_type": "code",
   "execution_count": 27,
   "outputs": [
    {
     "data": {
      "text/plain": "'DTSTART:20231121T090000\\nDTEND:20231121T100000\\nSUMMARY:Sync Meeting with Team\\nEND:VEVENT'"
     },
     "execution_count": 27,
     "metadata": {},
     "output_type": "execute_result"
    }
   ],
   "source": [
    "from dataclasses import dataclass, field\n",
    "from utils.complete import create\n",
    "\n",
    "from datetime import datetime\n",
    "from typing import Optional, List, Any\n",
    "\n",
    "\n",
    "@dataclass\n",
    "class VEvent:\n",
    "    id: Optional[Any] = field(default=None)\n",
    "    dtstart: datetime = None\n",
    "    dtend: Optional[datetime] = None\n",
    "    duration: Optional[str] = None\n",
    "    summary: Optional[str] = None\n",
    "    description: Optional[str] = None\n",
    "    location: Optional[str] = None\n",
    "\n",
    "\n",
    "create(prompt=f\"{get_this_month()}\\nYou are a icalendar expert assistant. I want to have a sync meeting with my team tomorrow morning\\n```vevent\\nBEGIN:VEVENT\")"
   ],
   "metadata": {
    "collapsed": false,
    "ExecuteTime": {
     "end_time": "2023-11-20T22:44:54.345196Z",
     "start_time": "2023-11-20T22:44:53.700608Z"
    }
   }
  },
  {
   "cell_type": "code",
   "execution_count": 47,
   "outputs": [
    {
     "data": {
      "text/plain": "VEvent(id='5dc72aae-2c2c-4fcd-acc9-04f6fccc3c05', dtstart='20231121T090000', dtend='20231121T100000', duration=None, summary='Sync with the team', description=None, location=None)"
     },
     "execution_count": 47,
     "metadata": {},
     "output_type": "execute_result"
    }
   ],
   "source": [
    "event = get_vevent(\"Sync with the team tomorrow morning\")\n",
    "event\n",
    "\n",
    "\n"
   ],
   "metadata": {
    "collapsed": false,
    "ExecuteTime": {
     "end_time": "2023-11-20T22:54:17.630216Z",
     "start_time": "2023-11-20T22:54:17.055050Z"
    }
   }
  },
  {
   "cell_type": "code",
   "execution_count": 46,
   "outputs": [],
   "source": [
    "import json\n",
    "import uuid\n",
    "\n",
    "import openai\n",
    "from dateutil import parser\n",
    "from icontract import require, ensure\n",
    "from sqlmodel import Field, SQLModel, Relationship, select\n",
    "from datetime import datetime\n",
    "from typing import Optional, List\n",
    "\n",
    "from shipit.cli import get_session, get_mem_store\n",
    "from utils.crud_tools import add_model, update_model, delete_model, get_model\n",
    "\n",
    "\n",
    "def get_vevent(prompt):\n",
    "    vevent = create(prompt=f\"You are a icalendar expert assistant. You specialize in creating VEvents. You are very careful to make sure the start and end times are perfect.\\n{prompt}\\n{get_this_month()}\\nn\\```vevent\\nBEGIN:VEVENT\", stop=\"\\nEND:VEVENT\")\n",
    "\n",
    "    # 'DTSTART:20231123T160000\\nDTEND:20231123T170000\\nSUMMARY:Holiday dinner with the family\\nDESCRIPTION:Thanksgiving Day at 4pm\\nEND:VEVENT'\n",
    "    # I need to turn this in kwargs for Event using a dict comp\n",
    "    kwargs = {line.split(\":\")[0].lower(): line.split(\":\")[1] for line in vevent.split(\"\\n\") if line != \"END:VEVENT\"}\n",
    "\n",
    "    event = VEvent(**kwargs)\n",
    "    event.id = str(uuid.uuid4())\n",
    "\n",
    "    return event\n",
    "\n"
   ],
   "metadata": {
    "collapsed": false,
    "ExecuteTime": {
     "end_time": "2023-11-20T22:54:16.612551Z",
     "start_time": "2023-11-20T22:54:16.610221Z"
    }
   }
  },
  {
   "cell_type": "code",
   "execution_count": 43,
   "outputs": [
    {
     "data": {
      "text/plain": "'- Duration: 1 hour\\n- Description: Discuss current projects and tasks with the team\\n- Location: Virtual meeting via Zoom'"
     },
     "execution_count": 43,
     "metadata": {},
     "output_type": "execute_result"
    }
   ],
   "source": [
    "def ical_prompt(prompt):\n",
    "    return f\"You are a icalendar expert assistant.\\n{prompt}\\n\"\n",
    "\n",
    "\n",
    "\n",
    "needed_fields = [field for field in event.__dict__.keys() if event.__dict__[field] is None]\n",
    "\n",
    "missing = ical_prompt(f\"What information do you need to fill this event? {event}\\nMissing fields: {needed_fields}\\n\\nAssistant: This is what I recommend to fill the fields with:\")\n",
    "create(prompt=missing)"
   ],
   "metadata": {
    "collapsed": false,
    "ExecuteTime": {
     "end_time": "2023-11-20T22:53:24.574225Z",
     "start_time": "2023-11-20T22:53:24.023778Z"
    }
   }
  },
  {
   "cell_type": "code",
   "execution_count": 49,
   "outputs": [
    {
     "name": "stdout",
     "output_type": "stream",
     "text": [
      "VEvent(id='1', dtstart=datetime.datetime(2023, 11, 21, 9, 0), dtend=datetime.datetime(2023, 11, 21, 10, 0), duration=None, summary='Morning Standup Meeting', description=None, location=None)\n",
      "VEvent(id='2', dtstart=datetime.datetime(2023, 11, 21, 11, 0), dtend=datetime.datetime(2023, 11, 21, 12, 0), duration=None, summary='Code Review Session', description=None, location=None)\n",
      "VEvent(id='3', dtstart=datetime.datetime(2023, 11, 21, 13, 0), dtend=datetime.datetime(2023, 11, 21, 14, 0), duration=None, summary='Development Workshop', description=None, location=None)\n",
      "VEvent(id='4', dtstart=datetime.datetime(2023, 11, 21, 11, 30), dtend=datetime.datetime(2023, 11, 21, 13, 0), duration=None, summary='Lunch Break', description=None, location=None)\n",
      "VEvent(id='5', dtstart=datetime.datetime(2023, 11, 21, 12, 30), dtend=datetime.datetime(2023, 11, 21, 13, 30), duration=None, summary='Overlap Meeting', description=None, location=None)\n"
     ]
    },
    {
     "data": {
      "text/plain": "'DTSTART:20231120T090000\\nDTEND:20231120T100000\\nSUMMARY:Meeting 1\\nEND:VEVENT\\nBEGIN:VEVENT\\nDTSTART:20231120T093000\\nDTEND:20231120T103000\\nSUMMARY:Meeting 2\\nEND:VEVENT\\n```\\n\\nThe two meetings overlap as they both occur on November 20, 2023 from 9:30 AM to 10:00 AM.'"
     },
     "execution_count": 49,
     "metadata": {},
     "output_type": "execute_result"
    }
   ],
   "source": [
    "from dataclasses import dataclass\n",
    "from datetime import datetime, timedelta\n",
    "from typing import List, Optional\n",
    "\n",
    "\n",
    "# Define the start and end times for the day\n",
    "start_time = datetime(2023, 11, 21, 9, 0)  # 9:00 AM\n",
    "end_time = datetime(2023, 11, 21, 17, 0)  # 5:00 PM\n",
    "\n",
    "# Create a list of events for the day\n",
    "events = [\n",
    "    VEvent(id='1', dtstart=start_time, dtend=start_time + timedelta(hours=1), summary='Morning Standup Meeting'),\n",
    "    VEvent(id='2', dtstart=start_time + timedelta(hours=2), dtend=start_time + timedelta(hours=3), summary='Code Review Session'),\n",
    "    VEvent(id='3', dtstart=start_time + timedelta(hours=4), dtend=start_time + timedelta(hours=5), summary='Development Workshop'),\n",
    "    VEvent(id='4', dtstart=start_time + timedelta(hours=2, minutes=30), dtend=start_time + timedelta(hours=4), summary='Lunch Break'),\n",
    "    VEvent(id='5', dtstart=start_time + timedelta(hours=3, minutes=30), dtend=start_time + timedelta(hours=4, minutes=30), summary='Overlap Meeting'),\n",
    "]\n",
    "\n",
    "# Print the events\n",
    "for event in events:\n",
    "    print(event)\n",
    "\n",
    "\n",
    "create(prompt=f\"{get_this_month()}\\nYou are a icalendar expert assistant. which meetings overlap?\\n```vevent\\nBEGIN:VEVENT\")\n"
   ],
   "metadata": {
    "collapsed": false,
    "ExecuteTime": {
     "end_time": "2023-11-20T22:58:51.299946Z",
     "start_time": "2023-11-20T22:58:50.166281Z"
    }
   }
  },
  {
   "cell_type": "code",
   "execution_count": null,
   "outputs": [],
   "source": [],
   "metadata": {
    "collapsed": false
   }
  }
 ],
 "metadata": {
  "kernelspec": {
   "display_name": "Python 3",
   "language": "python",
   "name": "python3"
  },
  "language_info": {
   "codemirror_mode": {
    "name": "ipython",
    "version": 2
   },
   "file_extension": ".py",
   "mimetype": "text/x-python",
   "name": "python",
   "nbconvert_exporter": "python",
   "pygments_lexer": "ipython2",
   "version": "2.7.6"
  }
 },
 "nbformat": 4,
 "nbformat_minor": 0
}
