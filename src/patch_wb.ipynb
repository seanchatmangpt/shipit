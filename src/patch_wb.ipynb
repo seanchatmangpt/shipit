{
 "cells": [
  {
   "cell_type": "code",
   "execution_count": 14,
   "outputs": [
    {
     "data": {
      "text/plain": "[GitPatch(header=GitPatchHeader(from_line='From 43aa704476a3b4ddfc487ef498bbec26199b75ed Mon Sep 17 00:00:00 2001', from_author='From: Sean Chatman <136349053+seanchatmangpt@users.noreply.github.com>', date='Date: Sat, 25 Nov 2023 17:59:46 -0800', subject='Subject: [PATCH] Hello World!', diff_header=['---\\n', ' src/git_patcher.py | 71 ++++++++++++++++++++++++++++++++++++++++++++++\\n', ' 1 file changed, 71 insertions(+)\\n', ' create mode 100644 src/git_patcher.py\\n', '\\n', 'diff --git a/src/git_patcher.py b/src/git_patcher.py\\n', 'new file mode 100644\\n']), hunks=[GitPatchHunk(startsrc=0, linessrc=0, starttgt=1, linestgt=71, invalid=False, desc='', text=['+import os\\n', '+import openai\\n', '+from pydantic import BaseModel\\n', '+from typing import List, Optional\\n', '+import rdflib\\n', '+from pyshacl import validate\\n', '+from rdflib.namespace import RDF, RDFS\\n', '+\\n', '+# Set OpenAI API Key\\n', \"+openai.api_key = os.getenv('OPENAI_API_KEY')\\n\", '+\\n', '+# Pydantic Models\\n', '+class HunkModel(BaseModel):\\n', '+    startLine: int\\n', '+    lineCount: int\\n', '+    content: List[str]\\n', '+\\n', '+class FileChangeModel(BaseModel):\\n', '+    filename: str\\n', '+    hunks: List[HunkModel]\\n', '+\\n', '+class PatchModel(BaseModel):\\n', '+    authorName: Optional[str]\\n', '+    authorEmail: Optional[str]\\n', '+    submissionDate: Optional[str]\\n', '+    changes: List[FileChangeModel]\\n', '+\\n', '+# SHACL Shapes (load from a file or define inline)\\n', '+shacl_graph = rdflib.Graph()\\n', \"+shacl_graph.parse('git_patch_shapes.ttl', format='turtle')\\n\", '+\\n', '+# Functions\\n', '+def parse_git_patch(file_path: str) -> PatchModel:\\n', '+    # Implement parsing logic here\\n', '+    # Return a PatchModel instance\\n', '+    pass\\n', '+\\n', '+def rdf_from_patch(patch_model: PatchModel) -> rdflib.Graph:\\n', '+    # Convert PatchModel to RDF graph\\n', '+    # Implement conversion logic here\\n', '+    pass\\n', '+\\n', '+def validate_patch_with_shacl(graph: rdflib.Graph) -> bool:\\n', '+    # Validate the RDF graph against SHACL shapes\\n', '+    conforms, _, _ = validate(graph, shacl_graph=shacl_graph)\\n', '+    return conforms\\n', '+\\n', '+def analyze_patch_with_ai(patch_content: str) -> str:\\n', '+    # Use OpenAI to analyze the patch\\n', '+    response = openai.Completion.create(\\n', '+        engine=\"davinci-codex\",\\n', '+        prompt=\"Summarize this Git patch:\\\\n\\\\n\" + patch_content,\\n', '+        max_tokens=150\\n', '+    )\\n', '+    return response.choices[0].text.strip()\\n', '+\\n', '+# Main Application\\n', '+def main(file_path: str):\\n', '+    patch_model = parse_git_patch(file_path)\\n', '+    rdf_graph = rdf_from_patch(patch_model)\\n', '+    is_valid = validate_patch_with_shacl(rdf_graph)\\n', '+\\n', '+    if is_valid:\\n', '+        ai_summary = analyze_patch_with_ai(open(file_path).read())\\n', '+        print(\"Patch is valid according to SHACL.\")\\n', '+        print(\"AI Summary:\", ai_summary)\\n', '+    else:\\n', '+        print(\"Patch validation failed.\")\\n', '+\\n', '+if __name__ == \"__main__\":\\n', \"+    main('path/to/your/patch/file.patch')\\n\"])], source='dev/null', target='b/src/git_patcher.py', patch_type='plain')]"
     },
     "execution_count": 14,
     "metadata": {},
     "output_type": "execute_result"
    }
   ],
   "source": [
    "from utils.patch import GitPatch\n",
    "\n",
    "gp = GitPatch.from_file(\"../0001-Hello-World.patch\")\n",
    "gp"
   ],
   "metadata": {
    "collapsed": false,
    "ExecuteTime": {
     "end_time": "2023-11-26T05:06:03.877530Z",
     "start_time": "2023-11-26T05:06:03.840712Z"
    }
   }
  },
  {
   "cell_type": "code",
   "execution_count": 1,
   "outputs": [
    {
     "name": "stdout",
     "output_type": "stream",
     "text": [
      "Create a JSON response that contains data corresponding to the class GitPatchHeader based on the prompt.\n",
      "    The json loads like this: json.loads(response)\n",
      "    This is going to be used to create an instance of GitPatchHeader. It will crash if you add any additional information.\n",
      "    After the JSON, provide a doctoral thesis explaining your thought process.\n",
      "\n",
      "    ```python\n",
      "    class GitPatchHeader(BaseModel):\n",
      "    from_line: str\n",
      "    from_author: str\n",
      "    date: str\n",
      "    subject: str\n",
      "    diff_header: List[str]\n",
      "\n",
      "    ```\n",
      "\n",
      "    ```prompt\n",
      "    OpenAI Self-Writing Agent Swarm\n",
      "    ```\n",
      "\n",
      "    Complete the following JSON response:\n",
      "    ```json\n",
      "    {\n",
      "Create a JSON response that contains data corresponding to the class GitPatch based on the prompt.\n",
      "    The json loads like this: json.loads(response)\n",
      "    This is going to be used to create an instance of GitPatch. It will crash if you add any additional information.\n",
      "    After the JSON, provide a doctoral thesis explaining your thought process.\n",
      "\n",
      "    ```python\n",
      "    class GitPatch(BaseModel):\n",
      "    header: GitPatchHeader\n",
      "    hunks: List[GitPatchHunk]\n",
      "    source: str\n",
      "    target: str\n",
      "    patch_type: str\n",
      "\n",
      "    @staticmethod\n",
      "    def from_file(path: str):\n",
      "        return parse_patchset(fromfile(path))\n",
      "\n",
      "    def to_patchset(self):\n",
      "        \"\"\"\n",
      "        Convert GitPatch object into a PatchSet object.\n",
      "        \"\"\"\n",
      "        patchset = PatchSet()\n",
      "        patch = Patch()\n",
      "        patch.source = self.source\n",
      "        patch.target = self.target\n",
      "        patch.header = self.header.diff_header\n",
      "        patch.hunks = []\n",
      "\n",
      "        for hunk in self.hunks:\n",
      "            hunk_obj = Hunk()\n",
      "            hunk_obj.startsrc = hunk.startsrc\n",
      "            hunk_obj.linessrc = hunk.linessrc\n",
      "            hunk_obj.starttgt = hunk.starttgt\n",
      "            hunk_obj.linestgt = hunk.linestgt\n",
      "            hunk_obj.invalid = hunk.invalid\n",
      "            hunk_obj.desc = hunk.desc\n",
      "            hunk_obj.text = hunk.text\n",
      "            patch.hunks.append(hunk_obj)\n",
      "\n",
      "        patchset.items.append(patch)\n",
      "        return patchset\n",
      "\n",
      "    def to_file(self, file_path):\n",
      "        \"\"\"\n",
      "        Write the GitPatch object to a file in git diff format.\n",
      "        :param file_path: Path of the file where the patch should be written.\n",
      "        \"\"\"\n",
      "        with open(file_path, 'w') as file:\n",
      "            # Assuming these fields exist in your GitPatchHeader model\n",
      "            current_date = datetime.now().strftime(\"From %Y%m%d%H%M%S Mon Sep 17 00:00:00 2001\\n\")\n",
      "            file.write(current_date)\n",
      "            file.write(f\"From: {self.header.from_author}\\n\")\n",
      "            file.write(f\"Date: {self.header.date}\\n\")\n",
      "            file.write(f\"Subject: {self.header.subject}\\n\\n\")\n",
      "\n",
      "            # Assuming diff header information is stored in the GitPatch model\n",
      "            file.write(\"--- a/{filename}\\n\")\n",
      "            file.write(\"+++ b/{filename}\\n\")\n",
      "\n",
      "            # Writing each hunk\n",
      "            for hunk in self.hunks:\n",
      "                file.write(\"\\n\")\n",
      "                file.write(f\"@@ -{hunk.startsrc},{hunk.linessrc} +{hunk.starttgt},{hunk.linestgt} @@\\n\")\n",
      "                for line in hunk.text:\n",
      "                    file.write(line + '\\n')\n",
      "\n",
      "    def apply(self, strip=0, root=None):\n",
      "        \"\"\"\n",
      "        Apply the patch.\n",
      "        :param strip: Number of leading components from file paths to strip.\n",
      "        :param root: Root directory for applying the patch.\n",
      "        \"\"\"\n",
      "        patchset = self.to_patchset()\n",
      "        return patchset.apply(strip=strip, root=root)\n",
      "\n",
      "    ```\n",
      "\n",
      "    ```prompt\n",
      "    OpenAI Self-Writing Agent Swarm\n",
      "    ```\n",
      "\n",
      "    Complete the following JSON response:\n",
      "    ```json\n",
      "    {\n"
     ]
    },
    {
     "name": "stderr",
     "output_type": "stream",
     "text": [
      "\u001B[32m2023-11-25 21:07:50.614\u001B[0m | \u001B[33m\u001B[1mWARNING \u001B[0m | \u001B[36mutils.create_prompts\u001B[0m:\u001B[36mcreate_data\u001B[0m:\u001B[36m631\u001B[0m - \u001B[33m\u001B[1mInvalid GitPatch generated: Expecting ',' delimiter: line 1 column 191 (char 190) \"header\": {\n",
      "        \"diff_header\": \"From 20210917120000 Mon Sep 17 00:00:00 2001\\nFrom: OpenAI Self-Writing Agent Swarm\\nDate: 2021-09-17\\nSubject: OpenAI Self-Writing Agent Swarm\\n\"\n",
      "        \"from_author\": \"OpenAI Self-Writing Agent Swarm\",\n",
      "        \"date\": \"2021-09-17\",\n",
      "        \"subject\": \"OpenAI Self-Writing Agent Swarm\"\n",
      "        },\n",
      "      \"hunks\": [],\n",
      "      \"source\": \"\",\n",
      "      \"target\": \"\",\n",
      "      \"patch_type\": \"git\"\n",
      "    }\u001B[0m\n"
     ]
    },
    {
     "data": {
      "text/plain": "{'header': {'from_line': 'OpenAI Self-Writing Agent Swarm',\n  'from_author': 'OpenAI',\n  'date': '2021-10-15',\n  'subject': 'Self-Writing Agent Swarm',\n  'diff_header': []},\n 'hunks': [],\n 'source': '',\n 'target': '',\n 'patch_type': 'git'}"
     },
     "execution_count": 1,
     "metadata": {},
     "output_type": "execute_result"
    }
   ],
   "source": [
    "from utils.patch import GitPatch, GitPatchHeader\n",
    "from utils.create_prompts import create_data\n",
    "\n",
    "header = await create_data(\"OpenAI Self-Writing Agent Swarm\", GitPatchHeader)\n",
    "data = await create_data(\"OpenAI Self-Writing Agent Swarm\", GitPatch)\n",
    "\n",
    "data[\"header\"] = header\n",
    "data\n"
   ],
   "metadata": {
    "collapsed": false,
    "ExecuteTime": {
     "end_time": "2023-11-26T05:07:52.510544Z",
     "start_time": "2023-11-26T05:07:47.644075Z"
    }
   }
  },
  {
   "cell_type": "code",
   "execution_count": 2,
   "outputs": [
    {
     "data": {
      "text/plain": "GitPatch(header=GitPatchHeader(from_line='OpenAI Self-Writing Agent Swarm', from_author='OpenAI', date='2021-10-15', subject='Self-Writing Agent Swarm', diff_header=[]), hunks=[], source='', target='', patch_type='git')"
     },
     "execution_count": 2,
     "metadata": {},
     "output_type": "execute_result"
    }
   ],
   "source": [
    "GitPatch(**data)"
   ],
   "metadata": {
    "collapsed": false,
    "ExecuteTime": {
     "end_time": "2023-11-26T05:08:11.613044Z",
     "start_time": "2023-11-26T05:08:11.609151Z"
    }
   }
  },
  {
   "cell_type": "code",
   "execution_count": 4,
   "outputs": [
    {
     "name": "stdout",
     "output_type": "stream",
     "text": [
      "Create a JSON response that contains data corresponding to the class GitPatchHunk based on the prompt.\n",
      "    The json loads like this: json.loads(response)\n",
      "    This is going to be used to create an instance of GitPatchHunk. It will crash if you add any additional information.\n",
      "    After the JSON, provide a doctoral thesis explaining your thought process.\n",
      "\n",
      "    ```python\n",
      "    class GitPatchHunk(BaseModel):\n",
      "    startsrc: int\n",
      "    linessrc: int\n",
      "    starttgt: int\n",
      "    linestgt: int\n",
      "    invalid: bool\n",
      "    desc: str\n",
      "    text: List[str]\n",
      "\n",
      "    ```\n",
      "\n",
      "    ```prompt\n",
      "    OpenAI Self-Writing Agent Swarm. Include the skeleton code in the text.  ASSISTANT FILL IN THE TEXT PROPERTY WITH REAL WORKING AGENT SWARM PRODUCTION CODE!!! PLEASE FOR THE LOVE OF GOD HELP ME!!!\n",
      "    ```\n",
      "\n",
      "    Complete the following JSON response:\n",
      "    ```json\n",
      "    {\n"
     ]
    },
    {
     "data": {
      "text/plain": "{'startsrc': 0,\n 'linessrc': 1,\n 'starttgt': 0,\n 'linestgt': 1,\n 'invalid': False,\n 'desc': 'OpenAI Self-Writing Agent Swarm',\n 'text': ['ASSISTANT FILL IN THE TEXT PROPERTY WITH REAL WORKING AGENT SWARM PRODUCTION CODE!!! PLEASE FOR THE LOVE OF GOD HELP ME!!!']}"
     },
     "execution_count": 4,
     "metadata": {},
     "output_type": "execute_result"
    }
   ],
   "source": [
    "from utils.patch import GitPatchHunk\n",
    "\n",
    "\n",
    "\n",
    "hunk = await create_data(\"OpenAI Self-Writing Agent Swarm. Include the skeleton code in the text.  ASSISTANT FILL IN THE TEXT PROPERTY WITH REAL WORKING AGENT SWARM PRODUCTION CODE!!! PLEASE FOR THE LOVE OF GOD HELP ME!!!\", GitPatchHunk)\n",
    "hunk"
   ],
   "metadata": {
    "collapsed": false,
    "ExecuteTime": {
     "end_time": "2023-11-26T03:22:34.505964Z",
     "start_time": "2023-11-26T03:22:33.042693Z"
    }
   }
  },
  {
   "cell_type": "code",
   "execution_count": 5,
   "outputs": [
    {
     "data": {
      "text/plain": "'from pydantic import BaseModel\\nfrom typing import Set\\n\\nclass UnixEmail(BaseModel):\\n    recipient: str\\n    sender: str\\n    subject: str\\n    body: str\\n\\ndef create_email(recipient: str, sender: str, subject: str, body: str) -> UnixEmail:\\n    return UnixEmail(recipient=recipient, sender=sender, subject=subject, body=body)\\n\\ndef get_recipients(emails: Set[UnixEmail]) -> Set[str]:\\n    return {email.recipient for email in emails}\\n\\ndef get_senders(emails: Set[UnixEmail]) -> Set[str]:\\n    return {email.sender for email in emails}\\n\\ndef get_subjects(emails: Set[UnixEmail]) -> Set[str]:\\n    return {email.subject for email in emails}\\n\\ndef get_bodies(emails: Set[UnixEmail]) -> Set[str]:\\n    return {email.body for email in emails}'"
     },
     "execution_count": 5,
     "metadata": {},
     "output_type": "execute_result"
    }
   ],
   "source": [
    "from utils.create_prompts import create_python\n",
    "\n",
    "swarm = await create_python(\"Create a in memory version of a UnixEmailSystem using Pydantic\")\n",
    "swarm"
   ],
   "metadata": {
    "collapsed": false,
    "ExecuteTime": {
     "end_time": "2023-11-26T03:22:36.862030Z",
     "start_time": "2023-11-26T03:22:34.514663Z"
    }
   }
  },
  {
   "cell_type": "code",
   "execution_count": 3,
   "outputs": [
    {
     "name": "stdout",
     "output_type": "stream",
     "text": [
      "Create a JSON response that contains data corresponding to the class Email based on the prompt.\n",
      "    The json loads like this: json.loads(response)\n",
      "    This is going to be used to create an instance of Email. It will crash if you add any additional information.\n",
      "    After the JSON, provide a doctoral thesis explaining your thought process.\n",
      "\n",
      "    ```python\n",
      "    class Email(BaseModel):\n",
      "    id: str\n",
      "    subject: str\n",
      "    body: str\n",
      "    from_address: str\n",
      "    to: List[str]\n",
      "    cc: List[str] = []\n",
      "    bcc: List[str] = []\n",
      "    date: datetime.datetime\n",
      "\n",
      "    ```\n",
      "\n",
      "    ```prompt\n",
      "    Create a email containing the task to be done. The body should be 4 sentences. \n",
      "Feature: Self-Writing Agent Swarm\n",
      "\n",
      "  Scenario: Create a email containing the task to be done\n",
      "    Given a task to be done\n",
      "    When the task is sent to the swarm\n",
      "    Then the swarm will create a email containing the task to be done\n",
      "\n",
      "    ```\n",
      "\n",
      "    Complete the following JSON response:\n",
      "    ```json\n",
      "    {\n"
     ]
    },
    {
     "data": {
      "text/plain": "{'id': '12345',\n 'subject': 'Task for Self-Writing Agent Swarm',\n 'body': 'The task is to create a self-writing agent swarm. This will be a feature that will allow the swarm to create emails containing tasks to be done. The swarm will be able to send these emails to designated recipients.',\n 'from_address': 'swarm@selfwritingagentswarm.com',\n 'to': ['recipient1@selfwritingagentswarm.com',\n  'recipient2@selfwritingagentswarm.com'],\n 'cc': [],\n 'bcc': [],\n 'date': '2021-10-01 12:00:00'}"
     },
     "execution_count": 3,
     "metadata": {},
     "output_type": "execute_result"
    }
   ],
   "source": [
    "from utils.models import Email\n",
    "from agents import Agent\n",
    "from pydantic import BaseModel, EmailStr\n",
    "from typing import List\n",
    "import datetime\n",
    "\n",
    "\n",
    "# Finally, patch is sent and merge is approved\n",
    "from utils.create_prompts import create_data\n",
    "\n",
    "async def send_task_email(agent_self, prompt: str):\n",
    "    email_data = await create_data(prompt, Email)\n",
    "    print(f\"{agent_self.name} sending task email: {email_data}\")\n",
    "    return Email(**email_data)\n",
    "\n",
    "async def receive_task(agent_self, email: Email):\n",
    "    print(f\"{agent_self.name} received task: {email.subject}\")\n",
    "\n",
    "async def review_code(agent_self, prompt: str):\n",
    "    patch_data = await create_data(prompt, GitPatch)\n",
    "    print(f\"{agent_self.name} reviewing patch: {patch_data}\")\n",
    "    return True # Review logic\n",
    "\n",
    "async def approve_merge(agent_self, patch_reviews):\n",
    "    return all(patch_reviews)\n",
    "\n",
    "\n",
    "gherkin_feature = \"\"\"\n",
    "Feature: Self-Writing Agent Swarm\n",
    "\n",
    "  Scenario: Create a email containing the task to be done\n",
    "    Given a task to be done\n",
    "    When the task is sent to the swarm\n",
    "    Then the swarm will create a email containing the task to be done\n",
    "\"\"\"\n",
    "\n",
    "\n",
    "email = await create_data(f\"Create a email containing the task to be done. The body should be 4 sentences. {gherkin_feature}\", Email)\n",
    "email"
   ],
   "metadata": {
    "collapsed": false,
    "ExecuteTime": {
     "end_time": "2023-11-26T03:25:24.503665Z",
     "start_time": "2023-11-26T03:25:22.776448Z"
    }
   }
  },
  {
   "cell_type": "code",
   "execution_count": 4,
   "outputs": [
    {
     "data": {
      "text/plain": "Email(id='12345', subject='Task for Self-Writing Agent Swarm', body='The task is to create a self-writing agent swarm. This will be a feature that will allow the swarm to create emails containing tasks to be done. The swarm will be able to send these emails to designated recipients.', from_address='swarm@selfwritingagentswarm.com', to=['recipient1@selfwritingagentswarm.com', 'recipient2@selfwritingagentswarm.com'], cc=[], bcc=[], date=datetime.datetime(2021, 10, 1, 12, 0))"
     },
     "execution_count": 4,
     "metadata": {},
     "output_type": "execute_result"
    }
   ],
   "source": [
    "Email(**email)"
   ],
   "metadata": {
    "collapsed": false,
    "ExecuteTime": {
     "end_time": "2023-11-26T03:25:50.895512Z",
     "start_time": "2023-11-26T03:25:50.883228Z"
    }
   }
  },
  {
   "cell_type": "code",
   "execution_count": 2,
   "outputs": [
    {
     "name": "stdout",
     "output_type": "stream",
     "text": [
      "author_name='Your Name' author_email='your.email@example.com' date='Thu, 24 Nov 2023 12:00:00 +0100' subject='[PATCH] Add newfile.txt' file_changes=['newfile.txt'] diff_content='diff --git a/newfile.txt b/newfile.txt\\nnew file mode 100644\\nindex 0000000..e69de29\\n--- /dev/null\\n+++ b/newfile.txt\\n@@ -0,0 +1,3 @@\\n+Hello, world!\\n+This is a new file.\\n+It contains some sample text.\\n--\\n2.20.1 (Apple Git-117)'\n"
     ]
    }
   ],
   "source": [
    "git_patch_instance = GitPatch(\n",
    "    author_name='Your Name',\n",
    "    author_email='your.email@example.com',\n",
    "    date='Thu, 24 Nov 2023 12:00:00 +0100',\n",
    "    subject='[PATCH] Add newfile.txt',\n",
    "    file_changes=['newfile.txt'],\n",
    "    diff_content='''diff --git a/newfile.txt b/newfile.txt\n",
    "new file mode 100644\n",
    "index 0000000..e69de29\n",
    "--- /dev/null\n",
    "+++ b/newfile.txt\n",
    "@@ -0,0 +1,3 @@\n",
    "+Hello, world!\n",
    "+This is a new file.\n",
    "+It contains some sample text.\n",
    "--\n",
    "2.20.1 (Apple Git-117)'''\n",
    ")\n",
    "\n",
    "print(git_patch_instance)\n"
   ],
   "metadata": {
    "collapsed": false,
    "ExecuteTime": {
     "end_time": "2023-11-26T04:24:16.611846Z",
     "start_time": "2023-11-26T04:24:16.605558Z"
    }
   }
  },
  {
   "cell_type": "code",
   "execution_count": 8,
   "outputs": [
    {
     "name": "stdout",
     "output_type": "stream",
     "text": [
      "author_name='00' author_email='your.email@example.com' date='Thu, 24 Nov 2023 12' subject='[PATCH] Update multiple files' file_changes=[FileChange(filename='file1.txt', change_type=None, diff_content='index 1234567..89abcdef 100644\\n--- a/file1.txt\\n+++ b/file1.txt\\n@@ -1,3 +1,6 @@\\n Hello, world!\\n+This is an updated line in file1.\\n+Another new line in file1.\\n-This line will be deleted from file1.\\n+This line replaces the deleted line in file1.\\n End of file1.\\n'), FileChange(filename='file2.txt', change_type=None, diff_content='new file mode 100644\\nindex 0000000..e69de29\\n--- /dev/null\\n+++ b/file2.txt\\n@@ -0,0 +1,5 @@\\n+Hello, world!\\n+This is file2.\\n+Adding multiple lines\\n+to demonstrate\\n+a multi-file patch.\\n--\\n2.20.1 (Apple Git-117)\\n')] filepath=None\n"
     ]
    }
   ],
   "source": [
    "import subprocess\n",
    "from pathlib import Path\n",
    "from pydantic import BaseModel, Field\n",
    "from typing import List, Optional\n",
    "import re\n",
    "\n",
    "class FileChange(BaseModel):\n",
    "    filename: str\n",
    "    change_type: Optional[str] = None\n",
    "    diff_content: Optional[str] = None\n",
    "\n",
    "class Patch(BaseModel):\n",
    "    author_name: str\n",
    "    author_email: str\n",
    "    date: str\n",
    "    subject: str\n",
    "    file_changes: List[FileChange] = []\n",
    "    filepath: str | Path = Field(default=None, description=\"Filepath to save the patch\")\n",
    "\n",
    "\n",
    "    @classmethod\n",
    "    def parse(cls, patch_text: str) -> \"GitPatch\":\n",
    "        # Parsing logic for git patch\n",
    "        lines = patch_text.split('\\n')\n",
    "        author = lines[0].split(':')[1].strip()\n",
    "        email = lines[1].split('<')[1].split('>')[0].strip()\n",
    "        date = lines[2].split(':')[1].strip()\n",
    "        subject = lines[3].split(':')[1].strip()\n",
    "\n",
    "        file_changes = []\n",
    "        current_file = None\n",
    "        diff_lines = []\n",
    "\n",
    "        for line in lines[4:]:\n",
    "            if line.startswith('diff --git'):\n",
    "                if current_file:\n",
    "                    file_changes.append(FileChange(filename=current_file, diff_content='\\n'.join(diff_lines)))\n",
    "                match = re.search(r'diff --git a/(.+) b/\\1', line)\n",
    "                if match:\n",
    "                    current_file = match.group(1)\n",
    "                    diff_lines = []\n",
    "            elif current_file:\n",
    "                diff_lines.append(line)\n",
    "\n",
    "        # Add the last file change if exists\n",
    "        if current_file:\n",
    "            file_changes.append(FileChange(filename=current_file, diff_content='\\n'.join(diff_lines)))\n",
    "\n",
    "        return cls(author_name=author, author_email=email, date=date, subject=subject, file_changes=file_changes)\n",
    "\n",
    "    @classmethod\n",
    "    def from_file(cls, filepath: str | Path) -> \"GitPatch\":\n",
    "        # Read the patch content from the file\n",
    "        if not isinstance(filepath, Path):\n",
    "            filepath = Path(filepath)\n",
    "        with filepath.open('r') as file:\n",
    "            patch_text = file.read()\n",
    "        return cls.parse(patch_text)\n",
    "\n",
    "    def apply(self, directory: str | Path) -> str:\n",
    "        \"\"\"\n",
    "        Applies the patch to the files in the given directory.\n",
    "\n",
    "        Args:\n",
    "            directory (Union[str, Path]): The directory where the patch should be applied.\n",
    "\n",
    "        Returns:\n",
    "            str: The output message from the patch command.\n",
    "        \"\"\"\n",
    "        # Convert directory to Path object if it's not already\n",
    "        if not isinstance(directory, Path):\n",
    "            directory = Path(directory)\n",
    "\n",
    "        # Ensure the directory exists\n",
    "        if not directory.is_dir():\n",
    "            raise ValueError(f\"The provided path '{directory}' is not a valid directory.\")\n",
    "\n",
    "        # Write the patch content to a temporary file\n",
    "        patch_file = directory / \"temp_patch.patch\"\n",
    "        with patch_file.open(\"w\") as file:\n",
    "            file.write(str(self))\n",
    "\n",
    "        # Use subprocess to execute the patch command\n",
    "        try:\n",
    "            result = subprocess.run(\n",
    "                [\"patch\", \"-p1\", \"-i\", str(patch_file), \"-d\", str(directory)],\n",
    "                check=True,\n",
    "                capture_output=True,\n",
    "                text=True\n",
    "            )\n",
    "            return result.stdout\n",
    "        except subprocess.CalledProcessError as e:\n",
    "            return f\"An error occurred: {e.stderr}\"\n",
    "        finally:\n",
    "            patch_file.unlink()  # Remove the temporary patch file\n",
    "\n",
    "\n",
    "    def to_file(self, filepath: str | Path = None):\n",
    "        \"\"\"\n",
    "        Writes the patch content to a file specified in the filepath attribute.\n",
    "        \"\"\"\n",
    "        if not self.filepath and not filepath:\n",
    "            raise ValueError(\"Filepath is not specified for the GitPatch.\")\n",
    "        if filepath:\n",
    "            self.filepath = filepath\n",
    "\n",
    "        if not self.filepath:\n",
    "            raise ValueError(\"Filepath is not specified for the GitPatch.\")\n",
    "\n",
    "        file_path = Path(self.filepath) if not isinstance(self.filepath, Path) else self.filepath\n",
    "\n",
    "        with file_path.open('w') as file:\n",
    "            # Write the header information\n",
    "            file.write(f\"From: {self.author_name} <{self.author_email}>\\n\")\n",
    "            file.write(f\"Date: {self.date}\\n\")\n",
    "            file.write(f\"Subject: {self.subject}\\n\\n\")\n",
    "\n",
    "            # Write changes for each file\n",
    "            for change in self.file_changes:\n",
    "                file.write(f\"--- a/{change.filename}\\n\")\n",
    "                file.write(f\"+++ b/{change.filename}\\n\")\n",
    "                file.write(f\"{change.diff_content}\\n\")\n",
    "\n",
    "\n",
    "\n",
    "\n",
    "# Example usage\n",
    "patch_text = \"\"\"From 1234567890abcdef1234567890abcdef12345678 Mon Sep 17 00:00:00 2001\n",
    "From: Your Name <your.email@example.com>\n",
    "Date: Thu, 24 Nov 2023 12:00:00 +0100\n",
    "Subject: [PATCH] Update multiple files\n",
    "\n",
    "---\n",
    " file1.txt | 4 +++-\n",
    " file2.txt | 5 +++++\n",
    " 2 files changed, 8 insertions(+), 1 deletion(-)\n",
    "\n",
    "diff --git a/file1.txt b/file1.txt\n",
    "index 1234567..89abcdef 100644\n",
    "--- a/file1.txt\n",
    "+++ b/file1.txt\n",
    "@@ -1,3 +1,6 @@\n",
    " Hello, world!\n",
    "+This is an updated line in file1.\n",
    "+Another new line in file1.\n",
    "-This line will be deleted from file1.\n",
    "+This line replaces the deleted line in file1.\n",
    " End of file1.\n",
    "\n",
    "diff --git a/file2.txt b/file2.txt\n",
    "new file mode 100644\n",
    "index 0000000..e69de29\n",
    "--- /dev/null\n",
    "+++ b/file2.txt\n",
    "@@ -0,0 +1,5 @@\n",
    "+Hello, world!\n",
    "+This is file2.\n",
    "+Adding multiple lines\n",
    "+to demonstrate\n",
    "+a multi-file patch.\n",
    "--\n",
    "2.20.1 (Apple Git-117)\n",
    "\"\"\"\n",
    "git_patch = GitPatch.parse(patch_text)\n",
    "print(git_patch)\n",
    "\n",
    "git_patch.to_file(\"test.patch\")\n"
   ],
   "metadata": {
    "collapsed": false,
    "ExecuteTime": {
     "end_time": "2023-11-26T04:38:48.578157Z",
     "start_time": "2023-11-26T04:38:48.575490Z"
    }
   }
  },
  {
   "cell_type": "code",
   "execution_count": 5,
   "outputs": [
    {
     "data": {
      "text/plain": "'index 1234567..89abcdef 100644\\n--- a/file1.txt\\n+++ b/file1.txt\\n@@ -1,3 +1,6 @@\\n Hello, world!\\n+This is an updated line in file1.\\n+Another new line in file1.\\n-This line will be deleted from file1.\\n+This line replaces the deleted line in file1.\\n End of file1.\\n'"
     },
     "execution_count": 5,
     "metadata": {},
     "output_type": "execute_result"
    }
   ],
   "source": [
    "git_patch.file_changes[0].diff_content"
   ],
   "metadata": {
    "collapsed": false,
    "ExecuteTime": {
     "end_time": "2023-11-26T04:27:39.559173Z",
     "start_time": "2023-11-26T04:27:39.556313Z"
    }
   }
  },
  {
   "cell_type": "code",
   "execution_count": 12,
   "outputs": [
    {
     "ename": "ValueError",
     "evalue": "Invalid hunk header format",
     "output_type": "error",
     "traceback": [
      "\u001B[0;31m---------------------------------------------------------------------------\u001B[0m",
      "\u001B[0;31mIndexError\u001B[0m                                Traceback (most recent call last)",
      "Cell \u001B[0;32mIn[12], line 49\u001B[0m, in \u001B[0;36mGitPatchHunk._parse_hunk_header\u001B[0;34m(header_line)\u001B[0m\n\u001B[1;32m     48\u001B[0m \u001B[38;5;28;01mtry\u001B[39;00m:\n\u001B[0;32m---> 49\u001B[0m     startsrc_tgt, linessrc_tgt, desc \u001B[38;5;241m=\u001B[39m \u001B[43mheader_line\u001B[49m\u001B[38;5;241;43m.\u001B[39;49m\u001B[43msplit\u001B[49m\u001B[43m(\u001B[49m\u001B[38;5;124;43m'\u001B[39;49m\u001B[38;5;124;43m@@\u001B[39;49m\u001B[38;5;124;43m'\u001B[39;49m\u001B[43m)\u001B[49m\u001B[43m[\u001B[49m\u001B[38;5;241;43m1\u001B[39;49m\u001B[43m]\u001B[49m\u001B[38;5;241m.\u001B[39mstrip()\u001B[38;5;241m.\u001B[39msplit(\u001B[38;5;124m'\u001B[39m\u001B[38;5;124m \u001B[39m\u001B[38;5;124m'\u001B[39m)\n\u001B[1;32m     50\u001B[0m     startsrc, linessrc \u001B[38;5;241m=\u001B[39m \u001B[38;5;28mmap\u001B[39m(\u001B[38;5;28mint\u001B[39m, startsrc_tgt\u001B[38;5;241m.\u001B[39msplit(\u001B[38;5;124m'\u001B[39m\u001B[38;5;124m,\u001B[39m\u001B[38;5;124m'\u001B[39m))\n",
      "\u001B[0;31mIndexError\u001B[0m: list index out of range",
      "\nDuring handling of the above exception, another exception occurred:\n",
      "\u001B[0;31mValueError\u001B[0m                                Traceback (most recent call last)",
      "Cell \u001B[0;32mIn[12], line 160\u001B[0m\n\u001B[1;32m    115\u001B[0m         \u001B[38;5;28;01mreturn\u001B[39;00m \u001B[38;5;28mcls\u001B[39m(\n\u001B[1;32m    116\u001B[0m             author_name\u001B[38;5;241m=\u001B[39mheader\u001B[38;5;241m.\u001B[39mfrom_author,\n\u001B[1;32m    117\u001B[0m             author_email\u001B[38;5;241m=\u001B[39mheader\u001B[38;5;241m.\u001B[39mfrom_line,  \u001B[38;5;66;03m# You may need to extract the email from this line.\u001B[39;00m\n\u001B[0;32m   (...)\u001B[0m\n\u001B[1;32m    121\u001B[0m             hunks\u001B[38;5;241m=\u001B[39mhunks\n\u001B[1;32m    122\u001B[0m         )\n\u001B[1;32m    124\u001B[0m patch_text \u001B[38;5;241m=\u001B[39m \u001B[38;5;124m\"\"\"\u001B[39m\u001B[38;5;124mFrom 1234567890abcdef1234567890abcdef12345678 Mon Sep 17 00:00:00 2001\u001B[39m\n\u001B[1;32m    125\u001B[0m \u001B[38;5;124mFrom: Your Name <your.email@example.com>\u001B[39m\n\u001B[1;32m    126\u001B[0m \u001B[38;5;124mDate: Thu, 24 Nov 2023 12:00:00 +0100\u001B[39m\n\u001B[0;32m   (...)\u001B[0m\n\u001B[1;32m    158\u001B[0m \u001B[38;5;124m2.20.1 (Apple Git-117)\u001B[39m\n\u001B[1;32m    159\u001B[0m \u001B[38;5;124m\"\"\"\u001B[39m\n\u001B[0;32m--> 160\u001B[0m git_patch \u001B[38;5;241m=\u001B[39m \u001B[43mGitPatch\u001B[49m\u001B[38;5;241;43m.\u001B[39;49m\u001B[43mparse\u001B[49m\u001B[43m(\u001B[49m\u001B[43mpatch_text\u001B[49m\u001B[43m)\u001B[49m\n\u001B[1;32m    161\u001B[0m \u001B[38;5;28mprint\u001B[39m(git_patch)\n\u001B[1;32m    163\u001B[0m git_patch\u001B[38;5;241m.\u001B[39mto_file(\u001B[38;5;124m\"\u001B[39m\u001B[38;5;124mtest.patch\u001B[39m\u001B[38;5;124m\"\u001B[39m)\n",
      "Cell \u001B[0;32mIn[12], line 102\u001B[0m, in \u001B[0;36mGitPatch.parse\u001B[0;34m(cls, patch_text)\u001B[0m\n\u001B[1;32m    100\u001B[0m current_hunk_lines\u001B[38;5;241m.\u001B[39mappend(line)\n\u001B[1;32m    101\u001B[0m \u001B[38;5;28;01mif\u001B[39;00m line\u001B[38;5;241m.\u001B[39mstartswith(\u001B[38;5;124m'\u001B[39m\u001B[38;5;124m@@\u001B[39m\u001B[38;5;124m'\u001B[39m):\n\u001B[0;32m--> 102\u001B[0m     hunks\u001B[38;5;241m.\u001B[39mappend(\u001B[43mGitPatchHunk\u001B[49m\u001B[38;5;241;43m.\u001B[39;49m\u001B[43mparse\u001B[49m\u001B[43m(\u001B[49m\u001B[43mcurrent_hunk_lines\u001B[49m\u001B[43m)\u001B[49m)\n\u001B[1;32m    103\u001B[0m     current_hunk_lines \u001B[38;5;241m=\u001B[39m []\n\u001B[1;32m    104\u001B[0m     in_hunk \u001B[38;5;241m=\u001B[39m \u001B[38;5;28;01mFalse\u001B[39;00m\n",
      "Cell \u001B[0;32mIn[12], line 29\u001B[0m, in \u001B[0;36mGitPatchHunk.parse\u001B[0;34m(cls, lines)\u001B[0m\n\u001B[1;32m     26\u001B[0m     \u001B[38;5;28;01mraise\u001B[39;00m \u001B[38;5;167;01mValueError\u001B[39;00m(\u001B[38;5;124m\"\u001B[39m\u001B[38;5;124mHunk lines are empty\u001B[39m\u001B[38;5;124m\"\u001B[39m)\n\u001B[1;32m     28\u001B[0m header_line \u001B[38;5;241m=\u001B[39m lines[\u001B[38;5;241m0\u001B[39m]\n\u001B[0;32m---> 29\u001B[0m startsrc, linessrc, starttgt, linestgt, desc \u001B[38;5;241m=\u001B[39m \u001B[38;5;28;43mcls\u001B[39;49m\u001B[38;5;241;43m.\u001B[39;49m\u001B[43m_parse_hunk_header\u001B[49m\u001B[43m(\u001B[49m\u001B[43mheader_line\u001B[49m\u001B[43m)\u001B[49m\n\u001B[1;32m     31\u001B[0m \u001B[38;5;66;03m# Remove the header line from the list of lines to get the hunk text\u001B[39;00m\n\u001B[1;32m     32\u001B[0m text \u001B[38;5;241m=\u001B[39m lines[\u001B[38;5;241m1\u001B[39m:]\n",
      "Cell \u001B[0;32mIn[12], line 54\u001B[0m, in \u001B[0;36mGitPatchHunk._parse_hunk_header\u001B[0;34m(header_line)\u001B[0m\n\u001B[1;32m     52\u001B[0m     \u001B[38;5;28;01mreturn\u001B[39;00m startsrc, linessrc, starttgt, linestgt, desc\n\u001B[1;32m     53\u001B[0m \u001B[38;5;28;01mexcept\u001B[39;00m (\u001B[38;5;167;01mIndexError\u001B[39;00m, \u001B[38;5;167;01mValueError\u001B[39;00m):\n\u001B[0;32m---> 54\u001B[0m     \u001B[38;5;28;01mraise\u001B[39;00m \u001B[38;5;167;01mValueError\u001B[39;00m(\u001B[38;5;124m\"\u001B[39m\u001B[38;5;124mInvalid hunk header format\u001B[39m\u001B[38;5;124m\"\u001B[39m)\n",
      "\u001B[0;31mValueError\u001B[0m: Invalid hunk header format"
     ]
    }
   ],
   "source": [
    "from typing import List, Optional, Tuple\n",
    "import re\n",
    "from pydantic import BaseModel, Field\n",
    "from pathlib import Path\n",
    "\n",
    "class PatchHeader(BaseModel):\n",
    "    from_line: str\n",
    "    from_author: str\n",
    "    date: str\n",
    "    subject: str\n",
    "    diff_header: List[str]\n",
    "\n",
    "\n",
    "class PatchHunk(BaseModel):\n",
    "    startsrc: int\n",
    "    linessrc: int\n",
    "    starttgt: int\n",
    "    linestgt: int\n",
    "    invalid: bool\n",
    "    desc: str\n",
    "    text: List[str]\n",
    "\n",
    "    @classmethod\n",
    "    def parse(cls, lines: List[str]) -> \"GitPatchHunk\":\n",
    "        if not lines:\n",
    "            raise ValueError(\"Hunk lines are empty\")\n",
    "\n",
    "        header_line = lines[0]\n",
    "        startsrc, linessrc, starttgt, linestgt, desc = cls._parse_hunk_header(header_line)\n",
    "\n",
    "        # Remove the header line from the list of lines to get the hunk text\n",
    "        text = lines[1:]\n",
    "\n",
    "        return cls(\n",
    "            startsrc=startsrc,\n",
    "            linessrc=linessrc,\n",
    "            starttgt=starttgt,\n",
    "            linestgt=linestgt,\n",
    "            invalid=False,  # You can set this based on your parsing logic\n",
    "            desc=desc,\n",
    "            text=text\n",
    "        )\n",
    "\n",
    "    @staticmethod\n",
    "    def _parse_hunk_header(header_line: str) -> Tuple[int, int, int, int, str]:\n",
    "        # Example header line: @@ -1,3 +1,6 @@ Sample hunk header\n",
    "        # Use regular expressions to extract the hunk information\n",
    "        try:\n",
    "            startsrc_tgt, linessrc_tgt, desc = header_line.split('@@')[1].strip().split(' ')\n",
    "            startsrc, linessrc = map(int, startsrc_tgt.split(','))\n",
    "            starttgt, linestgt = map(int, linessrc_tgt.split(','))\n",
    "            return startsrc, linessrc, starttgt, linestgt, desc\n",
    "        except (IndexError, ValueError):\n",
    "            raise ValueError(\"Invalid hunk header format\")\n",
    "\n",
    "\n",
    "\n",
    "class Patch(BaseModel):\n",
    "    author_name: str\n",
    "    author_email: str\n",
    "    date: str\n",
    "    subject: str\n",
    "    header: Optional[GitPatchHeader] = None\n",
    "    hunks: List[GitPatchHunk] = []\n",
    "    filepath: str | Path = Field(default=None, description=\"Filepath to save the patch\")\n",
    "\n",
    "    @classmethod\n",
    "    def parse(cls, patch_text: str) -> \"GitPatch\":\n",
    "        # Parsing logic for git patch\n",
    "        lines = patch_text.split('\\n')\n",
    "\n",
    "        header_lines = []\n",
    "        current_hunk_lines = []\n",
    "        in_hunk = False\n",
    "        hunks = []\n",
    "\n",
    "        for line in lines:\n",
    "            if not in_hunk:\n",
    "                if line.startswith('From:'):\n",
    "                    from_line = line\n",
    "                elif line.startswith('Date:'):\n",
    "                    date = line\n",
    "                elif line.startswith('Subject:'):\n",
    "                    subject = line\n",
    "                elif line.startswith('diff --git'):\n",
    "                    if header_lines:\n",
    "                        header = GitPatchHeader(\n",
    "                            from_line=from_line,\n",
    "                            from_author=from_line.split(':')[1].strip(),\n",
    "                            date=date,\n",
    "                            subject=subject,\n",
    "                            diff_header=header_lines\n",
    "                        )\n",
    "                        header_lines = []\n",
    "                    current_hunk_lines.append(line)\n",
    "                    in_hunk = True\n",
    "                else:\n",
    "                    header_lines.append(line)\n",
    "            else:\n",
    "                current_hunk_lines.append(line)\n",
    "                if line.startswith('@@'):\n",
    "                    hunks.append(GitPatchHunk.parse(current_hunk_lines))\n",
    "                    current_hunk_lines = []\n",
    "                    in_hunk = False\n",
    "\n",
    "        if header_lines:\n",
    "            header = GitPatchHeader(\n",
    "                from_line=from_line,\n",
    "                from_author=from_line.split(':')[1].strip(),\n",
    "                date=date,\n",
    "                subject=subject,\n",
    "                diff_header=header_lines\n",
    "            )\n",
    "\n",
    "        return cls(\n",
    "            author_name=header.from_author,\n",
    "            author_email=header.from_line,  # You may need to extract the email from this line.\n",
    "            date=header.date,\n",
    "            subject=header.subject,\n",
    "            header=header,\n",
    "            hunks=hunks\n",
    "        )\n",
    "\n",
    "patch_text = \"\"\"From 1234567890abcdef1234567890abcdef12345678 Mon Sep 17 00:00:00 2001\n",
    "From: Your Name <your.email@example.com>\n",
    "Date: Thu, 24 Nov 2023 12:00:00 +0100\n",
    "Subject: [PATCH] Update multiple files\n",
    "\n",
    "---\n",
    " file1.txt | 4 +++-\n",
    " file2.txt | 5 +++++\n",
    " 2 files changed, 8 insertions(+), 1 deletion(-)\n",
    "\n",
    "diff --git a/file1.txt b/file1.txt\n",
    "index 1234567..89abcdef 100644\n",
    "--- a/file1.txt\n",
    "+++ b/file1.txt\n",
    "@@ -1,3 +1,6 @@\n",
    " Hello, world!\n",
    "+This is an updated line in file1.\n",
    "+Another new line in file1.\n",
    "-This line will be deleted from file1.\n",
    "+This line replaces the deleted line in file1.\n",
    " End of file1.\n",
    "\n",
    "diff --git a/file2.txt b/file2.txt\n",
    "new file mode 100644\n",
    "index 0000000..e69de29\n",
    "--- /dev/null\n",
    "+++ b/file2.txt\n",
    "@@ -0,0 +1,5 @@\n",
    "+Hello, world!\n",
    "+This is file2.\n",
    "+Adding multiple lines\n",
    "+to demonstrate\n",
    "+a multi-file patch.\n",
    "--\n",
    "2.20.1 (Apple Git-117)\n",
    "\"\"\"\n",
    "git_patch = GitPatch.parse(patch_text)\n",
    "print(git_patch)\n",
    "\n",
    "git_patch.to_file(\"test.patch\")"
   ],
   "metadata": {
    "collapsed": false,
    "ExecuteTime": {
     "end_time": "2023-11-26T04:59:23.398751Z",
     "start_time": "2023-11-26T04:59:23.363508Z"
    }
   }
  },
  {
   "cell_type": "code",
   "execution_count": 4,
   "outputs": [
    {
     "ename": "IndexError",
     "evalue": "list index out of range",
     "output_type": "error",
     "traceback": [
      "\u001B[0;31m---------------------------------------------------------------------------\u001B[0m",
      "\u001B[0;31mIndexError\u001B[0m                                Traceback (most recent call last)",
      "Cell \u001B[0;32mIn[4], line 2\u001B[0m\n\u001B[1;32m      1\u001B[0m \u001B[38;5;28;01mfrom\u001B[39;00m \u001B[38;5;21;01mutils\u001B[39;00m\u001B[38;5;21;01m.\u001B[39;00m\u001B[38;5;21;01mpatch\u001B[39;00m \u001B[38;5;28;01mimport\u001B[39;00m GitPatch, GitPatchHeader, GitPatchHunk\n\u001B[0;32m----> 2\u001B[0m gp \u001B[38;5;241m=\u001B[39m \u001B[43mGitPatch\u001B[49m\u001B[38;5;241;43m.\u001B[39;49m\u001B[43mfrom_file\u001B[49m\u001B[43m(\u001B[49m\u001B[38;5;124;43m\"\u001B[39;49m\u001B[38;5;124;43m/Users/candacechatman/dev/shipit/0001-Hello-World.patch\u001B[39;49m\u001B[38;5;124;43m\"\u001B[39;49m\u001B[43m)\u001B[49m\n\u001B[1;32m      3\u001B[0m gp\n",
      "File \u001B[0;32m~/dev/shipit/src/utils/patch.py:253\u001B[0m, in \u001B[0;36mGitPatch.from_file\u001B[0;34m(path)\u001B[0m\n\u001B[1;32m    251\u001B[0m \u001B[38;5;129m@staticmethod\u001B[39m\n\u001B[1;32m    252\u001B[0m \u001B[38;5;28;01mdef\u001B[39;00m \u001B[38;5;21mfrom_file\u001B[39m(path: \u001B[38;5;28mstr\u001B[39m):\n\u001B[0;32m--> 253\u001B[0m     \u001B[38;5;28;01mreturn\u001B[39;00m \u001B[43mparse_patchset\u001B[49m\u001B[43m(\u001B[49m\u001B[43mfromfile\u001B[49m\u001B[43m(\u001B[49m\u001B[43mpath\u001B[49m\u001B[43m)\u001B[49m\u001B[43m)\u001B[49m\n",
      "File \u001B[0;32m~/dev/shipit/src/utils/patch.py:321\u001B[0m, in \u001B[0;36mparse_patchset\u001B[0;34m(patchset)\u001B[0m\n\u001B[1;32m    317\u001B[0m \u001B[38;5;28;01mfor\u001B[39;00m patch \u001B[38;5;129;01min\u001B[39;00m patchset\u001B[38;5;241m.\u001B[39mitems:\n\u001B[1;32m    318\u001B[0m     header_lines \u001B[38;5;241m=\u001B[39m [line\u001B[38;5;241m.\u001B[39mdecode(\u001B[38;5;124m\"\u001B[39m\u001B[38;5;124mutf-8\u001B[39m\u001B[38;5;124m\"\u001B[39m) \u001B[38;5;28;01mfor\u001B[39;00m line \u001B[38;5;129;01min\u001B[39;00m patch\u001B[38;5;241m.\u001B[39mheader]\n\u001B[1;32m    320\u001B[0m     header \u001B[38;5;241m=\u001B[39m GitPatchHeader(\n\u001B[0;32m--> 321\u001B[0m         from_line\u001B[38;5;241m=\u001B[39m\u001B[43mheader_lines\u001B[49m\u001B[43m[\u001B[49m\u001B[38;5;241;43m0\u001B[39;49m\u001B[43m]\u001B[49m\u001B[38;5;241m.\u001B[39mstrip(),\n\u001B[1;32m    322\u001B[0m         from_author\u001B[38;5;241m=\u001B[39mheader_lines[\u001B[38;5;241m1\u001B[39m]\u001B[38;5;241m.\u001B[39mstrip(),\n\u001B[1;32m    323\u001B[0m         date\u001B[38;5;241m=\u001B[39mheader_lines[\u001B[38;5;241m2\u001B[39m]\u001B[38;5;241m.\u001B[39mstrip(),\n\u001B[1;32m    324\u001B[0m         subject\u001B[38;5;241m=\u001B[39mheader_lines[\u001B[38;5;241m3\u001B[39m]\u001B[38;5;241m.\u001B[39mstrip(),\n\u001B[1;32m    325\u001B[0m         diff_header\u001B[38;5;241m=\u001B[39mheader_lines[\n\u001B[1;32m    326\u001B[0m             \u001B[38;5;241m5\u001B[39m:\u001B[38;5;241m-\u001B[39m\u001B[38;5;241m1\u001B[39m\n\u001B[1;32m    327\u001B[0m         ],  \u001B[38;5;66;03m# Extract lines starting from '---' to the end, excluding the last line\u001B[39;00m\n\u001B[1;32m    328\u001B[0m     )\n\u001B[1;32m    330\u001B[0m     hunks \u001B[38;5;241m=\u001B[39m []\n\u001B[1;32m    331\u001B[0m     \u001B[38;5;28;01mfor\u001B[39;00m hunk \u001B[38;5;129;01min\u001B[39;00m patch\u001B[38;5;241m.\u001B[39mhunks:\n",
      "\u001B[0;31mIndexError\u001B[0m: list index out of range"
     ]
    }
   ],
   "source": [
    "from utils.patch import GitPatch, GitPatchHeader, GitPatchHunk\n",
    "gp = GitPatch.from_file(\"/Users/candacechatman/dev/shipit/0001-Hello-World.patch\")\n",
    "gp"
   ],
   "metadata": {
    "collapsed": false,
    "ExecuteTime": {
     "end_time": "2023-11-26T05:13:32.747884Z",
     "start_time": "2023-11-26T05:13:32.724757Z"
    }
   }
  },
  {
   "cell_type": "code",
   "execution_count": null,
   "outputs": [],
   "source": [],
   "metadata": {
    "collapsed": false
   }
  }
 ],
 "metadata": {
  "kernelspec": {
   "display_name": "Python 3",
   "language": "python",
   "name": "python3"
  },
  "language_info": {
   "codemirror_mode": {
    "name": "ipython",
    "version": 2
   },
   "file_extension": ".py",
   "mimetype": "text/x-python",
   "name": "python",
   "nbconvert_exporter": "python",
   "pygments_lexer": "ipython2",
   "version": "2.7.6"
  }
 },
 "nbformat": 4,
 "nbformat_minor": 0
}
