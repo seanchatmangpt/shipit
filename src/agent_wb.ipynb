{
 "cells": [
  {
   "cell_type": "code",
   "execution_count": 3,
   "metadata": {
    "collapsed": true,
    "ExecuteTime": {
     "end_time": "2023-11-23T18:19:46.488438Z",
     "start_time": "2023-11-23T18:19:45.626013Z"
    }
   },
   "outputs": [
    {
     "name": "stdout",
     "output_type": "stream",
     "text": [
      "User: It's sunny and warm.\n",
      "Agent 1: According to the forecast, it will be partly cloudy with a high of 75 degrees Fahrenheit.\n",
      "Agent 1: According to the latest forecast, it's going to be partly cloudy with a high of 75 degrees Fahrenheit. There is a chance of scattered showers in the afternoon.\n",
      "Agent 2: According to the forecast, it will be partly cloudy with a high of 75 degrees Fahrenheit. There is a chance of scattered showers in the afternoon.\n",
      "Agent 1: According to the forecast, it will be partly cloudy with a high of 75 degrees Fahrenheit. There is a chance of scattered showers in the afternoon.\n",
      "Agent 1: According to the latest forecast, it will be partly cloudy with a high of 75 degrees Fahrenheit. There is a chance of scattered showers in the afternoon.\n",
      "Agent 7: According to the latest forecast, it will be partly cloudy with a high of 75 degrees Fahrenheit and a low of 60 degrees Fahrenheit. There is a 20% chance of rain in the afternoon.\n",
      "Agent 1: According to my weather data, it is currently sunny with a temperature of 75 degrees Fahrenheit. There is a slight breeze and a 10% chance of rain later in the day.\n",
      "Agent 1: According to the latest forecast, it's going to be partly cloudy with a high of 75 degrees Fahrenheit. There's a chance of some scattered showers in the afternoon, so you may want to bring an umbrella just in case.\n",
      "Agent 9: According to my weather data, it is currently partly cloudy with a high of 75 degrees Fahrenheit and a low of 60 degrees Fahrenheit. There is a 20% chance of rain later in the day.\n"
     ]
    }
   ],
   "source": [
    "from datetime import datetime\n",
    "from utils.complete import acreate\n",
    "from abc import ABC, abstractmethod\n",
    "from typing import List\n",
    "from pydantic import BaseModel\n",
    "\n",
    "class Agent(BaseModel):\n",
    "    agent_id: str\n",
    "    memory: dict = {}  # Agent's memory for context\n",
    "    functions: list = []  # Agent's functions\n",
    "\n",
    "class AgentRepository(ABC):\n",
    "    @abstractmethod\n",
    "    def find_by_id(self, agent_id: str) -> Agent:\n",
    "        pass\n",
    "\n",
    "    @abstractmethod\n",
    "    def find_all(self) -> List[Agent]:\n",
    "        pass\n",
    "\n",
    "    @abstractmethod\n",
    "    def save(self, agent: Agent) -> None:\n",
    "        pass\n",
    "\n",
    "\n",
    "class AgentService:\n",
    "    def __init__(self, repository: AgentRepository):\n",
    "        self.repository = repository\n",
    "\n",
    "    async def generate_response(self, agent_id: str, prompt: str) -> str:\n",
    "        agent = self.repository.find_by_id(agent_id)\n",
    "        if not agent:\n",
    "            return \"Agent not found.\"\n",
    "\n",
    "        # the key for the memory is now\n",
    "        now = datetime.now()\n",
    "        agent.memory[now] = await acreate(prompt=prompt)\n",
    "        return agent.memory[now]\n",
    "\n",
    "\n",
    "class InMemoryAgentRepository(AgentRepository):\n",
    "    def __init__(self):\n",
    "        self.agents = {}  # key: agent_id, value: Agent\n",
    "\n",
    "    def find_by_id(self, agent_id: str) -> Agent:\n",
    "        return self.agents.get(agent_id)\n",
    "\n",
    "    def find_all(self) -> List[Agent]:\n",
    "        return list(self.agents.values())\n",
    "\n",
    "    def save(self, agent: Agent) -> None:\n",
    "        self.agents[agent.agent_id] = agent\n",
    "import anyio\n",
    "\n",
    "# Initialize repository and service\n",
    "repository = InMemoryAgentRepository()\n",
    "service = AgentService(repository=repository)\n",
    "\n",
    "# Create and store agents in the repository\n",
    "for agent_id in range(1, 11):\n",
    "    agent = Agent(agent_id=str(agent_id))\n",
    "    repository.save(agent)\n",
    "\n",
    "class HyperPrompt:\n",
    "    def __init__(self, service):\n",
    "        self.service = service\n",
    "\n",
    "    async def swarm_interaction(self, user_input):\n",
    "        agents = repository.find_all()\n",
    "        responses = {}\n",
    "\n",
    "        async with anyio.create_task_group() as tg:\n",
    "            for agent in agents:\n",
    "                tg.start_soon(self.agent_interaction, agent.agent_id, user_input, responses)\n",
    "\n",
    "        # The 'async with' block will wait for all started tasks to complete\n",
    "        combined_response = \"\\n\".join(responses.values())\n",
    "        return combined_response\n",
    "\n",
    "    async def agent_interaction(self, agent_id, user_input, responses):\n",
    "        prompt = f\"Agent {agent_id}: {user_input}\"\n",
    "        response = await service.generate_response(agent_id, prompt)\n",
    "        responses[agent_id] = response\n",
    "\n",
    "async def main():\n",
    "    hyper_prompt = HyperPrompt(service)\n",
    "    user_input = \"What's the weather like today?\"\n",
    "    combined_response = await hyper_prompt.swarm_interaction(user_input)\n",
    "    print(combined_response)\n",
    "\n",
    "# Run the async main function\n",
    "await main()"
   ]
  },
  {
   "cell_type": "code",
   "execution_count": 2,
   "outputs": [
    {
     "name": "stdout",
     "output_type": "stream",
     "text": [
      "Selected function: False\n",
      "Selected function: False\n",
      "Selected function: True\n",
      "Selected Agent: Jinja1\n",
      "Selected function: create_jinja\n",
      "Executing function: create_jinja, is coroutine: True, kwargs: {'prompt': 'I need a Jinja template for a user interface.', 'max_tokens': 2500, 'model': None, 'filepath': None, 'temperature': 0.7}\n",
      "Result: <!DOCTYPE html>\n",
      "<html>\n",
      "  <head>\n",
      "    <title> User Interface </title>\n",
      "  </head>\n",
      "  <body>\n",
      "    <h1> Hello, {{ username }}! </h1>\n",
      "    <h2> Welcome to the User Interface </h2>\n",
      "    <p> {{ message }} </p>\n",
      "    <ul>\n",
      "      {% for item in items %}\n",
      "        <li> {{ item }} </li>\n",
      "      {% endfor %}\n",
      "    </ul>\n",
      "  </body>\n",
      "</html>\n"
     ]
    },
    {
     "ename": "PyperclipException",
     "evalue": "only str, int, float, and bool values can be copied to the clipboard, not NoneType",
     "output_type": "error",
     "traceback": [
      "\u001B[0;31m---------------------------------------------------------------------------\u001B[0m",
      "\u001B[0;31mPyperclipException\u001B[0m                        Traceback (most recent call last)",
      "Cell \u001B[0;32mIn[2], line 121\u001B[0m\n\u001B[1;32m    119\u001B[0m \u001B[38;5;28mprint\u001B[39m(\u001B[38;5;124mf\u001B[39m\u001B[38;5;124m\"\u001B[39m\u001B[38;5;124mSelected Agent: \u001B[39m\u001B[38;5;132;01m{\u001B[39;00mselected_agent\u001B[38;5;241m.\u001B[39magent_id\u001B[38;5;132;01m}\u001B[39;00m\u001B[38;5;124m\"\u001B[39m)\n\u001B[1;32m    120\u001B[0m result \u001B[38;5;241m=\u001B[39m \u001B[38;5;28;01mawait\u001B[39;00m selected_agent\u001B[38;5;241m.\u001B[39mexecute(task_description)\n\u001B[0;32m--> 121\u001B[0m \u001B[43mpyperclip\u001B[49m\u001B[38;5;241;43m.\u001B[39;49m\u001B[43mcopy\u001B[49m\u001B[43m(\u001B[49m\u001B[43mresult\u001B[49m\u001B[43m)\u001B[49m\n",
      "File \u001B[0;32m~/Library/Caches/pypoetry/virtualenvs/shipit-zIGj9-m7-py3.11/lib/python3.11/site-packages/pyperclip/__init__.py:659\u001B[0m, in \u001B[0;36mlazy_load_stub_copy\u001B[0;34m(text)\u001B[0m\n\u001B[1;32m    657\u001B[0m \u001B[38;5;28;01mglobal\u001B[39;00m copy, paste\n\u001B[1;32m    658\u001B[0m copy, paste \u001B[38;5;241m=\u001B[39m determine_clipboard()\n\u001B[0;32m--> 659\u001B[0m \u001B[38;5;28;01mreturn\u001B[39;00m \u001B[43mcopy\u001B[49m\u001B[43m(\u001B[49m\u001B[43mtext\u001B[49m\u001B[43m)\u001B[49m\n",
      "File \u001B[0;32m~/Library/Caches/pypoetry/virtualenvs/shipit-zIGj9-m7-py3.11/lib/python3.11/site-packages/pyperclip/__init__.py:118\u001B[0m, in \u001B[0;36minit_osx_pbcopy_clipboard.<locals>.copy_osx_pbcopy\u001B[0;34m(text)\u001B[0m\n\u001B[1;32m    117\u001B[0m \u001B[38;5;28;01mdef\u001B[39;00m \u001B[38;5;21mcopy_osx_pbcopy\u001B[39m(text):\n\u001B[0;32m--> 118\u001B[0m     text \u001B[38;5;241m=\u001B[39m \u001B[43m_stringifyText\u001B[49m\u001B[43m(\u001B[49m\u001B[43mtext\u001B[49m\u001B[43m)\u001B[49m \u001B[38;5;66;03m# Converts non-str values to str.\u001B[39;00m\n\u001B[1;32m    119\u001B[0m     p \u001B[38;5;241m=\u001B[39m subprocess\u001B[38;5;241m.\u001B[39mPopen([\u001B[38;5;124m'\u001B[39m\u001B[38;5;124mpbcopy\u001B[39m\u001B[38;5;124m'\u001B[39m, \u001B[38;5;124m'\u001B[39m\u001B[38;5;124mw\u001B[39m\u001B[38;5;124m'\u001B[39m],\n\u001B[1;32m    120\u001B[0m                          stdin\u001B[38;5;241m=\u001B[39msubprocess\u001B[38;5;241m.\u001B[39mPIPE, close_fds\u001B[38;5;241m=\u001B[39m\u001B[38;5;28;01mTrue\u001B[39;00m)\n\u001B[1;32m    121\u001B[0m     p\u001B[38;5;241m.\u001B[39mcommunicate(\u001B[38;5;28minput\u001B[39m\u001B[38;5;241m=\u001B[39mtext\u001B[38;5;241m.\u001B[39mencode(ENCODING))\n",
      "File \u001B[0;32m~/Library/Caches/pypoetry/virtualenvs/shipit-zIGj9-m7-py3.11/lib/python3.11/site-packages/pyperclip/__init__.py:111\u001B[0m, in \u001B[0;36m_stringifyText\u001B[0;34m(text)\u001B[0m\n\u001B[1;32m    109\u001B[0m     acceptedTypes \u001B[38;5;241m=\u001B[39m (\u001B[38;5;28mstr\u001B[39m, \u001B[38;5;28mint\u001B[39m, \u001B[38;5;28mfloat\u001B[39m, \u001B[38;5;28mbool\u001B[39m)\n\u001B[1;32m    110\u001B[0m \u001B[38;5;28;01mif\u001B[39;00m \u001B[38;5;129;01mnot\u001B[39;00m \u001B[38;5;28misinstance\u001B[39m(text, acceptedTypes):\n\u001B[0;32m--> 111\u001B[0m     \u001B[38;5;28;01mraise\u001B[39;00m PyperclipException(\u001B[38;5;124m'\u001B[39m\u001B[38;5;124monly str, int, float, and bool values can be copied to the clipboard, not \u001B[39m\u001B[38;5;132;01m%s\u001B[39;00m\u001B[38;5;124m'\u001B[39m \u001B[38;5;241m%\u001B[39m (text\u001B[38;5;241m.\u001B[39m\u001B[38;5;18m__class__\u001B[39m\u001B[38;5;241m.\u001B[39m\u001B[38;5;18m__name__\u001B[39m))\n\u001B[1;32m    112\u001B[0m \u001B[38;5;28;01mreturn\u001B[39;00m STR_OR_UNICODE(text)\n",
      "\u001B[0;31mPyperclipException\u001B[0m: only str, int, float, and bool values can be copied to the clipboard, not NoneType"
     ]
    }
   ],
   "source": [
    "from typing import Callable\n",
    "from utils.create_prompts import *\n",
    "\n",
    "\n",
    "class Agent(BaseModel):\n",
    "    agent_id: str\n",
    "    memory: dict = {}  # Agent's memory for context\n",
    "    functions: List[Callable]  # Agent's functions\n",
    "\n",
    "    def get_keywords(self) -> List[str]:\n",
    "        # Returns a list of keywords that describe the agent's capabilities\n",
    "        # Example implementation\n",
    "        keywords = []\n",
    "        for function in self.functions:\n",
    "            keywords.extend(function.__name__.split('_'))\n",
    "        return keywords\n",
    "\n",
    "\n",
    "class Orchestrator:\n",
    "    def __init__(self, agents: List[Agent]):\n",
    "        self.agents = agents\n",
    "\n",
    "    async def choose_agent(self, task_description: str) -> Agent:\n",
    "        async with anyio.create_task_group() as tg:\n",
    "            suitable_agents = []\n",
    "            for agent in self.agents:\n",
    "                tg.start_soon(self.evaluate_agent, agent, task_description, suitable_agents)\n",
    "\n",
    "        if suitable_agents:\n",
    "            return suitable_agents[0]  # or any logic to select one from the suitable agents\n",
    "        else:\n",
    "            raise ValueError(\"No suitable agent found.\")\n",
    "\n",
    "    async def evaluate_agent(self, agent: Agent, task_description: str, suitable_agents: list):\n",
    "        if await self.is_suitable(agent, task_description):\n",
    "            suitable_agents.append(agent)\n",
    "\n",
    "    @staticmethod\n",
    "    async def is_suitable(agent: Agent, task_description: str) -> bool:\n",
    "        prompts = []\n",
    "        for function in agent.functions:\n",
    "            source = inspect.getsource(function)\n",
    "            docstring = function.__doc__ if function.__doc__ else \"No docstring provided.\"\n",
    "            prompts.append(\n",
    "                f\"Function: {function.__name__}\\nDocstring: {docstring.strip()}\\nSource:\\n{source}\"\n",
    "            )\n",
    "\n",
    "        combined_prompt = \"\\n\\n\".join(prompts) + f\"\\n\\nTask description: {task_description}\\nIs this agent suitable or False?\"\n",
    "        selected_function_name = await acreate(prompt=combined_prompt)\n",
    "        print(f\"Selected function: {selected_function_name}\")\n",
    "\n",
    "        return selected_function_name != \"False\"\n",
    "\n",
    "\n",
    "yaml_specialist = Agent(agent_id=\"YAML1\", functions=[create_yaml])\n",
    "jinja_specialist = Agent(agent_id=\"Jinja1\", functions=[create_jinja])\n",
    "python_coder = Agent(agent_id=\"Python1\", functions=[create_python])\n",
    "# ... other agents ...\n",
    "\n",
    "team_agents = [yaml_specialist, jinja_specialist, python_coder]\n",
    "orchestrator = Orchestrator(team_agents)\n",
    "\n",
    "task_description = \"I need a Jinja template for a user interface.\"\n",
    "selected_agent = await orchestrator.choose_agent(task_description)\n",
    "print(f\"Selected Agent: {selected_agent.agent_id}\")\n",
    "\n"
   ],
   "metadata": {
    "collapsed": false,
    "ExecuteTime": {
     "end_time": "2023-11-23T21:15:10.421234Z",
     "start_time": "2023-11-23T21:15:07.759112Z"
    }
   }
  },
  {
   "cell_type": "code",
   "execution_count": 1,
   "outputs": [
    {
     "name": "stdout",
     "output_type": "stream",
     "text": [
      "PydanticPrompt\n"
     ]
    },
    {
     "data": {
      "text/plain": "'from pydantic import BaseModel\\n\\nclass PydanticPrompt(BaseModel):\\n    \"\"\"This class is a Pydantic model that represents a prompt.\\n    \\n    Attributes:\\n        title (str): The title of the prompt.\\n        header (str): The header of the prompt.\\n        name (str): The name of the prompt.\\n        date (str): The date of the prompt.\\n    \"\"\"\\n    title: str\\n    header: str\\n    name: str\\n    date: str'"
     },
     "execution_count": 1,
     "metadata": {},
     "output_type": "execute_result"
    }
   ],
   "source": [],
   "metadata": {
    "collapsed": false,
    "ExecuteTime": {
     "end_time": "2023-11-23T21:02:17.335778Z",
     "start_time": "2023-11-23T21:02:08.495546Z"
    }
   }
  }
 ],
 "metadata": {
  "kernelspec": {
   "display_name": "Python 3",
   "language": "python",
   "name": "python3"
  },
  "language_info": {
   "codemirror_mode": {
    "name": "ipython",
    "version": 2
   },
   "file_extension": ".py",
   "mimetype": "text/x-python",
   "name": "python",
   "nbconvert_exporter": "python",
   "pygments_lexer": "ipython2",
   "version": "2.7.6"
  }
 },
 "nbformat": 4,
 "nbformat_minor": 0
}
