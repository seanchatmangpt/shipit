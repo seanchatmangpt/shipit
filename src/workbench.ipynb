{
 "cells": [
  {
   "cell_type": "code",
   "execution_count": 4,
   "metadata": {
    "collapsed": true,
    "ExecuteTime": {
     "end_time": "2023-11-16T22:00:50.028211Z",
     "start_time": "2023-11-16T22:00:49.823665Z"
    }
   },
   "outputs": [
    {
     "name": "stdout",
     "output_type": "stream",
     "text": [
      "Function: function_a\n",
      "Docstring: This function does something related to task A.\n",
      "Source:\n",
      "def function_a():\n",
      "    \"\"\"This function does something related to task A.\"\"\"\n",
      "    # Function implementation\n",
      "    print(\"Function A called\")\n",
      "\n",
      "\n",
      "Function: function_b\n",
      "Docstring: This function handles task B.\n",
      "Source:\n",
      "def function_b():\n",
      "    \"\"\"This function handles task B.\"\"\"\n",
      "    # Function implementation\n",
      "    print(\"Function B called\")\n",
      "\n",
      "\n",
      "User input: I need to handle task B\n",
      "Which function should be called?\n",
      "function_b\n",
      "Function B called\n"
     ]
    }
   ],
   "source": [
    "from utils.complete import create\n",
    "\n",
    "\n",
    "import inspect\n",
    "\n",
    "def select_and_call_function(user_input: str, function_list: list):\n",
    "    prompts = []\n",
    "    for function in function_list:\n",
    "        source = inspect.getsource(function)\n",
    "        docstring = function.__doc__ if function.__doc__ else \"No docstring provided.\"\n",
    "        prompts.append(f\"Function: {function.__name__}\\nDocstring: {docstring.strip()}\\nSource:\\n{source}\")\n",
    "\n",
    "    combined_prompt = \"\\n\\n\".join(prompts) + f\"\\n\\nUser input: {user_input}\\nWhich function should be called?\"\n",
    "    selected_function_name = interpret_with_openai(combined_prompt)\n",
    "\n",
    "    # Find and call the selected function\n",
    "    for function in function_list:\n",
    "        if function.__name__ == selected_function_name:\n",
    "            return function()\n",
    "\n",
    "    raise ValueError(\"No suitable function found.\")\n",
    "\n",
    "\n",
    "def interpret_with_openai(prompt: str) -> str:\n",
    "    \"\"\"\n",
    "    Uses OpenAI to interpret which function to call based on the given prompt.\n",
    "\n",
    "    Args:\n",
    "    prompt (str): The prompt to send to OpenAI.\n",
    "\n",
    "    Returns:\n",
    "    str: The name of the function to call.\n",
    "    \"\"\"\n",
    "    print(prompt)\n",
    "    response = create(prompt=prompt)  # Assuming 'create' is a wrapper for OpenAI API call\n",
    "    print(response)\n",
    "    return response.strip()\n",
    "\n",
    "def function_a():\n",
    "    \"\"\"This function does something related to task A.\"\"\"\n",
    "    # Function implementation\n",
    "    print(\"Function A called\")\n",
    "\n",
    "def function_b():\n",
    "    \"\"\"This function handles task B.\"\"\"\n",
    "    # Function implementation\n",
    "    print(\"Function B called\")\n",
    "\n",
    "functions = [function_a, function_b]\n",
    "user_input = \"I need to handle task B\"\n",
    "\n",
    "# Call the function selector\n",
    "select_and_call_function(user_input, functions)\n"
   ]
  },
  {
   "cell_type": "code",
   "execution_count": null,
   "outputs": [],
   "source": [],
   "metadata": {
    "collapsed": false
   }
  }
 ],
 "metadata": {
  "kernelspec": {
   "display_name": "Python 3",
   "language": "python",
   "name": "python3"
  },
  "language_info": {
   "codemirror_mode": {
    "name": "ipython",
    "version": 2
   },
   "file_extension": ".py",
   "mimetype": "text/x-python",
   "name": "python",
   "nbconvert_exporter": "python",
   "pygments_lexer": "ipython2",
   "version": "2.7.6"
  }
 },
 "nbformat": 4,
 "nbformat_minor": 0
}
